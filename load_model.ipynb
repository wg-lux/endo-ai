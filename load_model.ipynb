{
 "cells": [
  {
   "cell_type": "code",
   "execution_count": 1,
   "metadata": {},
   "outputs": [
    {
     "name": "stderr",
     "output_type": "stream",
     "text": [
      "c:\\Users\\Thomas\\miniconda3\\envs\\endo-frame-predictor\\Lib\\site-packages\\torchaudio\\backend\\utils.py:74: UserWarning: No audio backend is available.\n",
      "  warnings.warn(\"No audio backend is available.\")\n",
      "Lightning automatically upgraded your loaded checkpoint from v1.5.9 to v2.0.8. To apply the upgrade to your files permanently, run `python -m pytorch_lightning.utilities.upgrade_checkpoint --file c:\\Users\\Thomas\\SynologyDrive\\dev\\agl-predict-endo-frame\\model\\colo_segmentation_RegNetX800MF_6.ckpt`\n",
      "c:\\Users\\Thomas\\miniconda3\\envs\\endo-frame-predictor\\Lib\\site-packages\\torchvision\\models\\_utils.py:208: UserWarning: The parameter 'pretrained' is deprecated since 0.13 and may be removed in the future, please use 'weights' instead.\n",
      "  warnings.warn(\n",
      "c:\\Users\\Thomas\\miniconda3\\envs\\endo-frame-predictor\\Lib\\site-packages\\torchvision\\models\\_utils.py:223: UserWarning: Arguments other than a weight enum or `None` for 'weights' are deprecated since 0.13 and may be removed in the future. The current behavior is equivalent to passing `weights=RegNet_X_800MF_Weights.IMAGENET1K_V1`. You can also use `weights=RegNet_X_800MF_Weights.DEFAULT` to get the most up-to-date weights.\n",
      "  warnings.warn(msg)\n"
     ]
    }
   ],
   "source": [
    "from endo_ai.predictor.model_loader import MultiLabelClassificationNet\n",
    "from pathlib import Path\n",
    "from endo_ai.predictor.predict import Classifier\n",
    "from endo_ai.predictor.inference_dataset import InferenceDataset\n",
    "from endo_ai.predictor.predict import sample_config\n",
    "\n",
    "FPS = 50\n",
    "SMOOTH_WINDOW_SIZE_S = 1\n",
    "MIN_SEQ_LEN_S = 0.5\n",
    "\n",
    "model = MultiLabelClassificationNet.load_from_checkpoint(\"model/colo_segmentation_RegNetX800MF_6.ckpt\")\n",
    "_ = model.cuda()\n",
    "_ = model.eval()\n",
    "classifier = Classifier(model, verbose = True)\n",
    "\n",
    "# get all filepaths from data folder\n",
    "data_folder = Path(\"/home/agl-admin/endoreg-client-manager/endoreg_client_manager/data/tmp/raw_frames/65c9507b-f5b3-4626-83c7-ef56717d9cf4\")\n",
    "paths = [p for p in data_folder.glob('*.jpg')]\n",
    "# frame names in format \"frame_{index}.jpg\"\n",
    "indices = [int(p.stem.split(\"_\")[1]) for p in paths]\n",
    "path_index_tuples = list(zip(paths, indices))\n",
    "# sort ascending by index\n",
    "path_index_tuples.sort(key=lambda x: x[1])\n",
    "paths, indices = zip(*path_index_tuples)\n",
    "\n",
    "string_paths = [p.resolve().as_posix() for p in paths]\n",
    "\n",
    "crops = [[0, 1080, 550, 1920-20] for _ in paths]\n",
    "\n",
    "ds = InferenceDataset(\n",
    "    string_paths,\n",
    "    crops, config = sample_config\n",
    ")\n",
    "\n",
    "predictions = classifier.pipe(string_paths, crops)\n",
    "readable_predictions = [classifier.readable(p) for p in predictions]\n",
    "\n",
    "\n",
    "result = classifier.post_process_predictions(\n",
    "    readable_predictions,\n",
    "    window_size_s = SMOOTH_WINDOW_SIZE_S,\n",
    "    min_seq_len_s = MIN_SEQ_LEN_S,\n",
    "    fps = FPS,\n",
    ")\n",
    "\n",
    "for i, _dict in enumerate(result):\n",
    "    _keys = list(_dict.keys())\n",
    "    for key in _keys:\n",
    "        # if numpy array\n",
    "        if hasattr(_dict[key], \"tolist\"):\n",
    "            result[i][key] = _dict[key].tolist()\n",
    "        \n",
    "        # check if list of tuples\n",
    "        # if so, make sure each tuple has 2 elements and split to two lists (start, stop)\n",
    "        if all(isinstance(x, tuple) for x in _dict[key]):\n",
    "            if all(len(x) == 2 for x in _dict[key]):\n",
    "                result[i][f\"{key}_start\"] = [int(x[0]) for x in _dict[key]]\n",
    "                result[i][f\"{key}_stop\"] = [int(x[1]) for x in _dict[key]]\n",
    "                \n",
    "                # # set null if empty\n",
    "                # if not result[i][f\"{key}_start\"]:\n",
    "                #     result[i][f\"{key}_start\"] = None\n",
    "                # if not result[i][f\"{key}_stop\"]:\n",
    "                #     result[i][f\"{key}_stop\"] = None\n",
    "                del result[i][key]\n",
    "        \n",
    "\n",
    "# predictions, smooth_predictions, binary_predictions, raw_sequences, filtered_sequences\n",
    "predictions = result[0]\n",
    "smooth_predictions = result[1]\n",
    "binary_predictions = result[2]\n",
    "raw_sequences = result[3]\n",
    "filtered_sequences = result[4]\n",
    "\n",
    "# save each file as json\n",
    "import json\n",
    "for i, _dict in enumerate(result):\n",
    "    with open(f\"results_{i}.json\", \"w\") as f:\n",
    "        json.dump(_dict, f, indent=4)\n",
    "\n"
   ]
  },
  {
   "cell_type": "code",
   "execution_count": 15,
   "metadata": {},
   "outputs": [],
   "source": [
    "target_directory = Path(\"data_anonym\")"
   ]
  },
  {
   "cell_type": "code",
   "execution_count": null,
   "metadata": {},
   "outputs": [],
   "source": [
    "import cv2\n",
    "import os\n",
    "\n",
    "def crop_and_save_images(image_paths, dimensions, output_dir):\n",
    "    \"\"\"\n",
    "    Crop images based on the specified dimensions and save them in a different directory.\n",
    "    \n",
    "    Parameters:\n",
    "        image_paths (list): List of file paths pointing to the images to be cropped.\n",
    "        dimensions (list): List of tuples specifying the dimensions for cropping.\n",
    "                          Each tuple is in the format (x, y, width, height).\n",
    "        output_dir (str): Directory where the cropped images will be saved.\n",
    "        \n",
    "    Returns:\n",
    "        None\n",
    "    \"\"\"\n",
    "    image_paths = [_.as_posix() for _ in image_paths]\n",
    "    # Create the output directory if it doesn't exist\n",
    "    if not os.path.exists(output_dir):\n",
    "        os.makedirs(output_dir)\n",
    "    \n",
    "    # Iterate through each image path and corresponding dimensions\n",
    "    for image_path, dimension in zip(image_paths, dimensions):\n",
    "        # Read the image\n",
    "        img = cv2.imread(image_path)\n",
    "        \n",
    "        # If the image is not read properly, skip to the next image\n",
    "        if img is None:\n",
    "            print(f\"Failed to read {image_path}. Skipping.\")\n",
    "            continue\n",
    "        \n",
    "        # Crop the image\n",
    "        ymin, ymax, xmin, xmax = crop = dimension\n",
    "        cropped_img = img[ymin:ymax, xmin:xmax, :]\n",
    "        \n",
    "        # Create the output file path\n",
    "        base_name = os.path.basename(image_path)\n",
    "        output_path = os.path.join(output_dir, f\"cropped_{base_name}\")\n",
    "        \n",
    "        # Save the cropped image\n",
    "        cv2.imwrite(output_path, cropped_img)\n",
    "        # print(f\"Cropped image saved at {output_path}\")\n",
    "\n",
    "# Example usage\n",
    "image_paths = paths\n",
    "dimensions = [[0, 1080, 550, 1920-20] for _ in paths]\n",
    "output_dir = target_directory.as_posix()\n",
    "\n",
    "crop_and_save_images(image_paths, dimensions, output_dir)\n"
   ]
  },
  {
   "cell_type": "code",
   "execution_count": 6,
   "metadata": {},
   "outputs": [],
   "source": [
    "\n",
    "# dataset = InferenceDataset(string_paths, )"
   ]
  },
  {
   "cell_type": "code",
   "execution_count": 9,
   "metadata": {},
   "outputs": [
    {
     "data": {
      "text/plain": [
       "957"
      ]
     },
     "execution_count": 9,
     "metadata": {},
     "output_type": "execute_result"
    }
   ],
   "source": [
    "len(paths)"
   ]
  },
  {
   "cell_type": "code",
   "execution_count": 3,
   "metadata": {},
   "outputs": [],
   "source": [
    "# 1920 -> 1350 by removing the left 550 pixels and right 20 pixels\n",
    "# crops is list of length len(paths) with each element being a numpy array of shape (ymin,,ymax,xmin,xmax)\n"
   ]
  },
  {
   "cell_type": "code",
   "execution_count": 7,
   "metadata": {},
   "outputs": [
    {
     "name": "stdout",
     "output_type": "stream",
     "text": [
      "Dataset created\n",
      "Dataloader created\n",
      "Starting inference\n",
      "First batch done\n"
     ]
    }
   ],
   "source": [
    "predictions = classifier.pipe(string_paths, crops)\n",
    "readable_predictions = [classifier.readable(p) for p in predictions]\n",
    "\n",
    "fps = 50\n",
    "# apply running mean to predictions (window size is 1 second)\n",
    "import numpy as np\n",
    "window_size = 1 * fps\n",
    "\n",
    "merged_predictions = {key: [] for key in readable_predictions[0].keys()}\n",
    "for p in readable_predictions:\n",
    "    for key in p.keys():\n",
    "        merged_predictions[key].append(p[key])\n",
    "\n",
    "smooth_merged_predictions = {key: np.convolve(merged_predictions[key], np.ones(window_size)/window_size, mode='valid') for key in merged_predictions.keys()}\n",
    "\n",
    "\n",
    "\n",
    "\n",
    "\n"
   ]
  },
  {
   "cell_type": "code",
   "execution_count": null,
   "metadata": {},
   "outputs": [],
   "source": [
    "binary_outside_predictions = np.array(smooth_outside_predictions) > 0.5\n",
    "\n",
    "# get start and stop indices of all sequences with 1\n",
    "starts = np.where(np.diff(binary_outside_predictions) < 0)[0]\n",
    "stops = np.where(np.diff(binary_outside_predictions) > 0)[0]\n",
    "\n",
    "# if the first prediction is 1, add a start at index 0\n",
    "if binary_outside_predictions[0]:\n",
    "    starts = np.concatenate([[0], starts])\n",
    "# if the last prediction is 1, add a stop at the end\n",
    "if binary_outside_predictions[-1]:\n",
    "    stops = np.concatenate([stops, [len(binary_outside_predictions)]])\n",
    "\n",
    "sequences = list(zip(starts, stops))\n",
    "\n",
    "# remove sequences that are too short (less than 1 second)\n",
    "min_duration = 1 * fps\n",
    "sequences = [s for s in sequences if s[1] - s[0] > min_duration]\n",
    "\n",
    "sequences\n",
    "\n",
    "\n"
   ]
  },
  {
   "cell_type": "code",
   "execution_count": 8,
   "metadata": {},
   "outputs": [
    {
     "data": {
      "text/plain": [
       "957"
      ]
     },
     "execution_count": 8,
     "metadata": {},
     "output_type": "execute_result"
    }
   ],
   "source": [
    "len(predictions)"
   ]
  },
  {
   "cell_type": "code",
   "execution_count": 11,
   "metadata": {},
   "outputs": [
    {
     "data": {
      "text/plain": [
       "[0.02568245679140091,\n",
       " 0.03210396692156792,\n",
       " 0.016161613166332245,\n",
       " 0.02195625565946102,\n",
       " 0.013235650956630707,\n",
       " 0.055444151163101196,\n",
       " 0.08932320028543472,\n",
       " 0.1805538833141327,\n",
       " 0.020592568442225456,\n",
       " 0.037484440952539444,\n",
       " 0.23811590671539307,\n",
       " 0.1550479531288147,\n",
       " 0.013677037321031094,\n",
       " 0.0164804607629776]"
      ]
     },
     "execution_count": 11,
     "metadata": {},
     "output_type": "execute_result"
    }
   ],
   "source": [
    "predictions[0]"
   ]
  },
  {
   "cell_type": "code",
   "execution_count": 12,
   "metadata": {},
   "outputs": [],
   "source": [
    "readable_predictions = [classifier.readable(p) for p in predictions]"
   ]
  },
  {
   "cell_type": "code",
   "execution_count": 13,
   "metadata": {},
   "outputs": [
    {
     "data": {
      "text/plain": [
       "[{'appendix': 0.02568245679140091,\n",
       "  'blood': 0.03210396692156792,\n",
       "  'diverticule': 0.016161613166332245,\n",
       "  'grasper': 0.02195625565946102,\n",
       "  'ileocaecalvalve': 0.013235650956630707,\n",
       "  'ileum': 0.055444151163101196,\n",
       "  'low_quality': 0.08932320028543472,\n",
       "  'nbi': 0.1805538833141327,\n",
       "  'needle': 0.020592568442225456,\n",
       "  'outside': 0.037484440952539444,\n",
       "  'polyp': 0.23811590671539307,\n",
       "  'snare': 0.1550479531288147,\n",
       "  'water_jet': 0.013677037321031094,\n",
       "  'wound': 0.0164804607629776},\n",
       " {'appendix': 0.026459526270627975,\n",
       "  'blood': 0.03412337228655815,\n",
       "  'diverticule': 0.016627714037895203,\n",
       "  'grasper': 0.022903645411133766,\n",
       "  'ileocaecalvalve': 0.013971230946481228,\n",
       "  'ileum': 0.061707496643066406,\n",
       "  'low_quality': 0.09504874795675278,\n",
       "  'nbi': 0.18197108805179596,\n",
       "  'needle': 0.021035058423876762,\n",
       "  'outside': 0.03767135366797447,\n",
       "  'polyp': 0.22808830440044403,\n",
       "  'snare': 0.1525668352842331,\n",
       "  'water_jet': 0.014157935045659542,\n",
       "  'wound': 0.017148012295365334}]"
      ]
     },
     "execution_count": 13,
     "metadata": {},
     "output_type": "execute_result"
    }
   ],
   "source": [
    "readable_predictions[:2]"
   ]
  },
  {
   "cell_type": "code",
   "execution_count": null,
   "metadata": {},
   "outputs": [
    {
     "ename": "",
     "evalue": "",
     "output_type": "error",
     "traceback": [
      "\u001b[1;31mJupyter cannot be started. Error attempting to locate Jupyter: Running cells with '/run/current-system/sw/bin/python' requires the notebook and jupyter package.\n",
      "\u001b[1;31mRun the following command to install 'jupyter and notebook' into the Python environment. \n",
      "\u001b[1;31mCommand: 'python -m pip install jupyter notebook -U\n",
      "\u001b[1;31mor\n",
      "\u001b[1;31mconda install jupyter notebook -U'\n",
      "\u001b[1;31mClick <a href='https://aka.ms/installJupyterForVSCode'>here</a> for more info."
     ]
    }
   ],
   "source": [
    "\n",
    "import json\n",
    "\n",
    "json_dict = {\n",
    "    \"labels\": classifier.config[\"labels\"],\n",
    "    \"paths\": string_paths,\n",
    "    \"predictions\": predictions\n",
    "}\n",
    "\n",
    "with open(\"predictions.json\", \"w\") as f:\n",
    "    json.dump(json_dict, f)"
   ]
  },
  {
   "cell_type": "code",
   "execution_count": 17,
   "metadata": {},
   "outputs": [
    {
     "data": {
      "text/plain": [
       "[<matplotlib.lines.Line2D at 0x25358c02ed0>]"
      ]
     },
     "execution_count": 17,
     "metadata": {},
     "output_type": "execute_result"
    },
    {
     "data": {
      "image/png": "[encoded data removed]",
      "text/plain": [
       "<Figure size 640x480 with 1 Axes>"
      ]
     },
     "metadata": {},
     "output_type": "display_data"
    }
   ],
   "source": [
    "\n"
   ]
  },
  {
   "cell_type": "code",
   "execution_count": null,
   "metadata": {},
   "outputs": [],
   "source": [
    "\n"
   ]
  },
  {
   "cell_type": "code",
   "execution_count": 18,
   "metadata": {},
   "outputs": [],
   "source": [
    "# make a json file for the predictions\n",
    "# {\n",
    "# \"labels\": array of strings corresponding to the labels for each prediction array\n",
    "# \"paths\": array of string paths,\n",
    "# \"predictions\": holds array of predictions for each path\n",
    "# }\n",
    "\n",
    "\n",
    "\n"
   ]
  },
  {
   "cell_type": "code",
   "execution_count": null,
   "metadata": {},
   "outputs": [],
   "source": []
  }
 ],
 "metadata": {
  "kernelspec": {
   "display_name": "endo-frame-predictor",
   "language": "python",
   "name": "python3"
  },
  "language_info": {
   "codemirror_mode": {
    "name": "ipython",
    "version": 3
   },
   "file_extension": ".py",
   "mimetype": "text/x-python",
   "name": "python",
   "nbconvert_exporter": "python",
   "pygments_lexer": "ipython3",
   "version": "3.11.8"
  },
  "orig_nbformat": 4
 },
 "nbformat": 4,
 "nbformat_minor": 2
}
